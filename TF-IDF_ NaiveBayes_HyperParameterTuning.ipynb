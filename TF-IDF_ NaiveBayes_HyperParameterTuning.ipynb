{
 "cells": [
  {
   "cell_type": "code",
   "execution_count": 8,
   "id": "38e658c7-e871-405d-a2ab-ec85e7261198",
   "metadata": {},
   "outputs": [],
   "source": [
    "import pandas as pd\n",
    "import numpy as np"
   ]
  },
  {
   "cell_type": "code",
   "execution_count": 10,
   "id": "641a957f-d415-41f4-971f-603c680c095d",
   "metadata": {},
   "outputs": [],
   "source": [
    "file_path = r\"C:\\Users\\ASUS\\Documents\\Dataset ML\\fr_dataset_stemmed.xlsx\"\n",
    "df = pd.read_excel(file_path)\n"
   ]
  },
  {
   "cell_type": "code",
   "execution_count": 11,
   "id": "c07edc97-faa3-4592-8671-34a0a2559cbf",
   "metadata": {},
   "outputs": [
    {
     "name": "stdout",
     "output_type": "stream",
     "text": [
      "Data Awal:\n",
      "             category  rating label  \\\n",
      "0  Home_and_Kitchen_5       5    CG   \n",
      "1  Home_and_Kitchen_5       5    CG   \n",
      "2  Home_and_Kitchen_5       5    CG   \n",
      "3  Home_and_Kitchen_5       1    CG   \n",
      "4  Home_and_Kitchen_5       5    CG   \n",
      "\n",
      "                                                text  \\\n",
      "0  Love this!  Well made, sturdy, and very comfor...   \n",
      "1  love it, a great upgrade from the original.  I...   \n",
      "2  This pillow saved my back. I love the look and...   \n",
      "3  Missing information on how to use it, but it i...   \n",
      "4  Very nice set. Good quality. We have had the s...   \n",
      "\n",
      "                                          clean_text  \\\n",
      "0  Love this  Well made sturdy and very comfortab...   \n",
      "1  love it a great upgrade from the original  Ive...   \n",
      "2  This pillow saved my back I love the look and ...   \n",
      "3  Missing information on how to use it but it is...   \n",
      "4  Very nice set Good quality We have had the set...   \n",
      "\n",
      "                                    clean_text_lower  \\\n",
      "0  love this  well made sturdy and very comfortab...   \n",
      "1  love it a great upgrade from the original  ive...   \n",
      "2  this pillow saved my back i love the look and ...   \n",
      "3  missing information on how to use it but it is...   \n",
      "4  very nice set good quality we have had the set...   \n",
      "\n",
      "                                              tokens  \\\n",
      "0  ['love', 'this', 'well', 'made', 'sturdy', 'an...   \n",
      "1  ['love', 'it', 'a', 'great', 'upgrade', 'from'...   \n",
      "2  ['this', 'pillow', 'saved', 'my', 'back', 'i',...   \n",
      "3  ['missing', 'information', 'on', 'how', 'to', ...   \n",
      "4  ['very', 'nice', 'set', 'good', 'quality', 'we...   \n",
      "\n",
      "                                    stopword_removal  \\\n",
      "0  ['love', 'well', 'made', 'sturdy', 'very', 'co...   \n",
      "1  ['love', 'great', 'upgrade', 'original', 'ive'...   \n",
      "2  ['pillow', 'saved', 'back', 'love', 'look', 'f...   \n",
      "3  ['missing', 'information', 'use', 'but', 'grea...   \n",
      "4  ['very', 'nice', 'set', 'good', 'quality', 'se...   \n",
      "\n",
      "                                            stemming  \n",
      "0  love well made sturdi veri comfort love itveri...  \n",
      "1            love great upgrad origin ive coupl year  \n",
      "2             pillow save back love look feel pillow  \n",
      "3            miss inform use but great product price  \n",
      "4   veri nice set good qualiti set two month now not  \n",
      "\n",
      "==================================================\n",
      "\n"
     ]
    }
   ],
   "source": [
    "print(\"Data Awal:\")\n",
    "print(df.head())\n",
    "print(\"\\n\" + \"=\"*50 + \"\\n\")"
   ]
  },
  {
   "cell_type": "code",
   "execution_count": 24,
   "id": "985f54d5-570d-4293-9d6c-82b06f8d8efb",
   "metadata": {},
   "outputs": [
    {
     "name": "stdout",
     "output_type": "stream",
     "text": [
      "Jumlah data latih: 32345\n",
      "Jumlah data uji:  8087\n",
      "--------------------------------------------------\n"
     ]
    }
   ],
   "source": [
    "from sklearn.model_selection import train_test_split\n",
    "X_text = df['stemming'].astype(str)\n",
    "y = df['label']\n",
    "\n",
    "X_train_text, X_test_text, y_train, y_test = train_test_split(\n",
    "    X_text,\n",
    "    y,\n",
    "    test_size=0.2, \n",
    "    random_state=42, \n",
    "    stratify=y\n",
    ")\n",
    "\n",
    "print(f\"Jumlah data latih: {len(X_train_text)}\")\n",
    "print(f\"Jumlah data uji:  {len(X_test_text)}\")\n",
    "print(\"-\" * 50)"
   ]
  },
  {
   "cell_type": "code",
   "execution_count": 38,
   "id": "a6512092-d9d5-4788-81b1-eb222d12184e",
   "metadata": {},
   "outputs": [],
   "source": [
    "from sklearn.naive_bayes import MultinomialNB \n",
    "from sklearn.pipeline import Pipeline\n",
    "from sklearn.model_selection import GridSearchCV\n",
    "pipeline = Pipeline([\n",
    "    ('tfidf', TfidfVectorizer()),\n",
    "    ('nb', MultinomialNB()),\n",
    "])\n",
    "\n",
    "parameters = {\n",
    "    'tfidf__ngram_range': [(1, 1)],  \n",
    "    'tfidf__min_df': [3, 5],                \n",
    "    'nb__alpha': [0.1, 0.5, 1.0],           \n",
    "}"
   ]
  },
  {
   "cell_type": "code",
   "execution_count": 40,
   "id": "57967d92-3711-4062-bc03-9b56d608c768",
   "metadata": {},
   "outputs": [
    {
     "name": "stdout",
     "output_type": "stream",
     "text": [
      "Memulai Hyperparameter Tuning dengan GridSearchCV...\n",
      "Parameter yang akan diuji:\n",
      "{'tfidf__ngram_range': [(1, 1)], 'tfidf__min_df': [3, 5], 'nb__alpha': [0.1, 0.5, 1.0]}\n",
      "Fitting 5 folds for each of 6 candidates, totalling 30 fits\n",
      "\n",
      "--- Tuning Selesai ---\n",
      "Skor F1 terbaik dari hasil cross-validation: 0.8565\n",
      "Parameter terbaik yang ditemukan:\n",
      "{'nb__alpha': 0.5, 'tfidf__min_df': 3, 'tfidf__ngram_range': (1, 1)}\n",
      "--------------------------------------------------\n"
     ]
    }
   ],
   "source": [
    "from sklearn.metrics import classification_report, f1_score, accuracy_score, confusion_matrix\n",
    "import seaborn as sns\n",
    "import matplotlib.pyplot as plt\n",
    "\n",
    "grid_search = GridSearchCV(pipeline, parameters, cv=5, scoring='f1_weighted', n_jobs=-1, verbose=1)\n",
    "\n",
    "print(\"Memulai Hyperparameter Tuning dengan GridSearchCV...\")\n",
    "print(\"Parameter yang akan diuji:\")\n",
    "print(parameters)\n",
    "\n",
    "grid_search.fit(X_train_text, y_train)\n",
    "\n",
    "print(\"\\n--- Tuning Selesai ---\")\n",
    "print(f\"Skor F1 terbaik dari hasil cross-validation: {grid_search.best_score_:.4f}\")\n",
    "print(\"Parameter terbaik yang ditemukan:\")\n",
    "print(grid_search.best_params_)\n",
    "\n",
    "best_model = grid_search.best_estimator_\n",
    "print(\"-\" * 50)"
   ]
  },
  {
   "cell_type": "code",
   "execution_count": 42,
   "id": "ac4657a4-106b-4960-9023-583e36036302",
   "metadata": {},
   "outputs": [
    {
     "name": "stdout",
     "output_type": "stream",
     "text": [
      "\n",
      "1. Membuat prediksi pada data uji menggunakan MODEL TERBAIK...\n",
      "   -> Prediksi selesai dibuat.\n",
      "\n",
      "2. Menghitung dan menampilkan hasil evaluasi akhir...\n",
      "   -> F1-Score (Weighted) pada Test Set: 0.8531\n",
      "   -> Akurasi pada Test Set: 0.8532\n",
      "\n",
      "--- Laporan Klasifikasi Lengkap untuk Model Terbaik ---\n",
      "              precision    recall  f1-score   support\n",
      "\n",
      "          CG       0.84      0.88      0.86      4044\n",
      "          OR       0.87      0.83      0.85      4043\n",
      "\n",
      "    accuracy                           0.85      8087\n",
      "   macro avg       0.85      0.85      0.85      8087\n",
      "weighted avg       0.85      0.85      0.85      8087\n",
      "\n",
      "\n",
      "3. Membuat visualisasi Confusion Matrix untuk Model Terbaik...\n"
     ]
    },
    {
     "data": {
      "image/png": "[encoded data removed]",
      "text/plain": [
       "<Figure size 800x600 with 2 Axes>"
      ]
     },
     "metadata": {},
     "output_type": "display_data"
    },
    {
     "name": "stdout",
     "output_type": "stream",
     "text": [
      "   -> Selesai.\n"
     ]
    }
   ],
   "source": [
    "print(\"\\n1. Membuat prediksi pada data uji menggunakan MODEL TERBAIK...\")\n",
    "\n",
    "y_pred = best_model.predict(X_test_text)\n",
    "print(\"   -> Prediksi selesai dibuat.\")\n",
    "\n",
    "\n",
    "print(\"\\n2. Menghitung dan menampilkan hasil evaluasi akhir...\")\n",
    "f1 = f1_score(y_test, y_pred, average='weighted')\n",
    "print(f\"   -> F1-Score (Weighted) pada Test Set: {f1:.4f}\")\n",
    "\n",
    "accuracy = accuracy_score(y_test, y_pred)\n",
    "print(f\"   -> Akurasi pada Test Set: {accuracy:.4f}\")\n",
    "\n",
    "\n",
    "print(\"\\n--- Laporan Klasifikasi Lengkap untuk Model Terbaik ---\")\n",
    "print(classification_report(y_test, y_pred))\n",
    "\n",
    "\n",
    "print(\"\\n3. Membuat visualisasi Confusion Matrix untuk Model Terbaik...\")\n",
    "cm = confusion_matrix(y_test, y_pred)\n",
    "plt.figure(figsize=(8, 6))\n",
    "sns.heatmap(cm, annot=True, fmt='d', cmap='Blues', \n",
    "            xticklabels=best_model.classes_, \n",
    "            yticklabels=best_model.classes_)\n",
    "plt.xlabel('Label Prediksi')\n",
    "plt.ylabel('Label Sebenarnya')\n",
    "plt.title('Confusion Matrix untuk Model Naive Bayes (Hasil Tuning)')\n",
    "plt.show()\n",
    "print(\"   -> Selesai.\")"
   ]
  },
  {
   "cell_type": "code",
   "execution_count": null,
   "id": "43d2139a-51cf-4c99-aa7e-c053f31591c4",
   "metadata": {},
   "outputs": [],
   "source": []
  }
 ],
 "metadata": {
  "kernelspec": {
   "display_name": "Python [conda env:base] *",
   "language": "python",
   "name": "conda-base-py"
  },
  "language_info": {
   "codemirror_mode": {
    "name": "ipython",
    "version": 3
   },
   "file_extension": ".py",
   "mimetype": "text/x-python",
   "name": "python",
   "nbconvert_exporter": "python",
   "pygments_lexer": "ipython3",
   "version": "3.12.7"
  }
 },
 "nbformat": 4,
 "nbformat_minor": 5
}
