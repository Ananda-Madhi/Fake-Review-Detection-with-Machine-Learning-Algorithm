{
 "cells": [
  {
   "cell_type": "code",
   "execution_count": 1,
   "id": "e5ccc7f0-8703-4ad1-a6f9-511c95765efd",
   "metadata": {},
   "outputs": [
    {
     "name": "stdout",
     "output_type": "stream",
     "text": [
      "❌ GAGAL: File 'fr_dataset_stemmed.xlsx' tidak ditemukan.\n",
      "Mohon unggah filenya terlebih dahulu menggunakan tombol lampiran (📎).\n"
     ]
    }
   ],
   "source": [
    "import pandas as pd\n",
    "\n",
    "# Nama file yang akan dibaca (sesuai dengan yang Anda unggah)\n",
    "nama_file = \"fr_dataset_stemmed.xlsx\"\n",
    "\n",
    "try:\n",
    "    # Mencoba untuk membaca file Excel\n",
    "    df = pd.read_excel(nama_file)\n",
    "    \n",
    "    print(f\"✅ File '{nama_file}' berhasil dibaca.\\n\")\n",
    "    \n",
    "    # Menampilkan 5 baris data pertama\n",
    "    print(\"--- 5 Data Pertama ---\")\n",
    "    print(df.head())\n",
    "    \n",
    "    # Memberi pemisah agar output lebih rapi\n",
    "    print(\"\\n\" + \"=\"*40 + \"\\n\")\n",
    "    \n",
    "    # Menampilkan 5 baris data terakhir\n",
    "    print(\"--- 5 Data Terakhir ---\")\n",
    "    print(df.tail())\n",
    "\n",
    "except FileNotFoundError:\n",
    "    print(f\"❌ GAGAL: File '{nama_file}' tidak ditemukan.\")\n",
    "    print(\"Mohon unggah filenya terlebih dahulu menggunakan tombol lampiran (📎).\")\n",
    "except Exception as e:\n",
    "    print(f\"Terjadi error saat memproses file: {e}\")"
   ]
  },
  {
   "cell_type": "code",
   "execution_count": null,
   "id": "c0ee4ef8-23ff-4ce1-8b7b-cec94c6bfc39",
   "metadata": {},
   "outputs": [],
   "source": []
  }
 ],
 "metadata": {
  "kernelspec": {
   "display_name": "Python [conda env:base] *",
   "language": "python",
   "name": "conda-base-py"
  },
  "language_info": {
   "codemirror_mode": {
    "name": "ipython",
    "version": 3
   },
   "file_extension": ".py",
   "mimetype": "text/x-python",
   "name": "python",
   "nbconvert_exporter": "python",
   "pygments_lexer": "ipython3",
   "version": "3.12.7"
  }
 },
 "nbformat": 4,
 "nbformat_minor": 5
}
