{
 "cells": [
  {
   "cell_type": "code",
   "execution_count": 1,
   "id": "45597c50-bbb9-4d85-8b78-0c5d9edd5b1b",
   "metadata": {},
   "outputs": [],
   "source": [
    "import pandas as pd\n",
    "import numpy as np"
   ]
  },
  {
   "cell_type": "code",
   "execution_count": 2,
   "id": "208117d8-a621-452f-8d12-70c11bef4b4e",
   "metadata": {},
   "outputs": [],
   "source": [
    "file_path = r\"C:\\Users\\ASUS\\Documents\\Dataset ML\\fr_dataset_stemmed.xlsx\"\n",
    "df = pd.read_excel(file_path)\n"
   ]
  },
  {
   "cell_type": "code",
   "execution_count": 3,
   "id": "ccd18339-2c29-4af6-b8da-a166bb78ea25",
   "metadata": {},
   "outputs": [
    {
     "name": "stdout",
     "output_type": "stream",
     "text": [
      "Data Awal:\n",
      "             category  rating label  \\\n",
      "0  Home_and_Kitchen_5       5    CG   \n",
      "1  Home_and_Kitchen_5       5    CG   \n",
      "2  Home_and_Kitchen_5       5    CG   \n",
      "3  Home_and_Kitchen_5       1    CG   \n",
      "4  Home_and_Kitchen_5       5    CG   \n",
      "\n",
      "                                                text  \\\n",
      "0  Love this!  Well made, sturdy, and very comfor...   \n",
      "1  love it, a great upgrade from the original.  I...   \n",
      "2  This pillow saved my back. I love the look and...   \n",
      "3  Missing information on how to use it, but it i...   \n",
      "4  Very nice set. Good quality. We have had the s...   \n",
      "\n",
      "                                          clean_text  \\\n",
      "0  Love this  Well made sturdy and very comfortab...   \n",
      "1  love it a great upgrade from the original  Ive...   \n",
      "2  This pillow saved my back I love the look and ...   \n",
      "3  Missing information on how to use it but it is...   \n",
      "4  Very nice set Good quality We have had the set...   \n",
      "\n",
      "                                    clean_text_lower  \\\n",
      "0  love this  well made sturdy and very comfortab...   \n",
      "1  love it a great upgrade from the original  ive...   \n",
      "2  this pillow saved my back i love the look and ...   \n",
      "3  missing information on how to use it but it is...   \n",
      "4  very nice set good quality we have had the set...   \n",
      "\n",
      "                                              tokens  \\\n",
      "0  ['love', 'this', 'well', 'made', 'sturdy', 'an...   \n",
      "1  ['love', 'it', 'a', 'great', 'upgrade', 'from'...   \n",
      "2  ['this', 'pillow', 'saved', 'my', 'back', 'i',...   \n",
      "3  ['missing', 'information', 'on', 'how', 'to', ...   \n",
      "4  ['very', 'nice', 'set', 'good', 'quality', 'we...   \n",
      "\n",
      "                                    stopword_removal  \\\n",
      "0  ['love', 'well', 'made', 'sturdy', 'very', 'co...   \n",
      "1  ['love', 'great', 'upgrade', 'original', 'ive'...   \n",
      "2  ['pillow', 'saved', 'back', 'love', 'look', 'f...   \n",
      "3  ['missing', 'information', 'use', 'but', 'grea...   \n",
      "4  ['very', 'nice', 'set', 'good', 'quality', 'se...   \n",
      "\n",
      "                                            stemming  \n",
      "0  love well made sturdi veri comfort love itveri...  \n",
      "1            love great upgrad origin ive coupl year  \n",
      "2             pillow save back love look feel pillow  \n",
      "3            miss inform use but great product price  \n",
      "4   veri nice set good qualiti set two month now not  \n",
      "\n",
      "==================================================\n",
      "\n"
     ]
    }
   ],
   "source": [
    "print(\"Data Awal:\")\n",
    "print(df.head())\n",
    "print(\"\\n\" + \"=\"*50 + \"\\n\")"
   ]
  },
  {
   "cell_type": "code",
   "execution_count": 4,
   "id": "1221792d-1060-46cb-a377-9caaef95d23b",
   "metadata": {},
   "outputs": [
    {
     "name": "stdout",
     "output_type": "stream",
     "text": [
      "Mempersiapkan dan memisahkan data...\n",
      "Jumlah data latih: 32345\n",
      "Jumlah data uji:  8087\n",
      "--------------------------------------------------\n"
     ]
    }
   ],
   "source": [
    "from sklearn.feature_extraction.text import TfidfVectorizer \n",
    "from sklearn.model_selection import train_test_split\n",
    "print(\"Mempersiapkan dan memisahkan data...\")\n",
    "\n",
    "X_text = df['stemming'].astype(str)\n",
    "y = df['label']\n",
    "\n",
    "X_train_text, X_test_text, y_train, y_test = train_test_split(\n",
    "    X_text,\n",
    "    y,\n",
    "    test_size=0.2, \n",
    "    random_state=42, \n",
    "    stratify=y\n",
    ")\n",
    "\n",
    "print(f\"Jumlah data latih: {len(X_train_text)}\")\n",
    "print(f\"Jumlah data uji:  {len(X_test_text)}\")\n",
    "print(\"-\" * 50)\n"
   ]
  },
  {
   "cell_type": "code",
   "execution_count": null,
   "id": "9ff1d1f7-f65e-42d0-9be3-85f29de7503e",
   "metadata": {},
   "outputs": [
    {
     "name": "stdout",
     "output_type": "stream",
     "text": [
      "Memulai Hyperparameter Tuning dengan GridSearchCV...\n",
      "Parameter yang akan diuji:\n",
      "{'tfidf__ngram_range': [(1, 1), (1, 2)], 'svm__C': [1, 10], 'svm__kernel': ['linear']}\n",
      "Fitting 3 folds for each of 4 candidates, totalling 12 fits\n"
     ]
    }
   ],
   "source": [
    "from sklearn.svm import SVC\n",
    "from sklearn.pipeline import Pipeline\n",
    "from sklearn.model_selection import GridSearchCV\n",
    "\n",
    "pipeline = Pipeline([\n",
    "    ('tfidf', TfidfVectorizer()),\n",
    "    ('svm', SVC(random_state=42,  probability=True)),\n",
    "])\n",
    "\n",
    "parameters = {\n",
    "    'tfidf__ngram_range': [(1, 1), (1, 2)], \n",
    "    'svm__C': [1, 10],                   \n",
    "    'svm__kernel': ['linear'],             \n",
    "}\n",
    "\n",
    "grid_search = GridSearchCV(pipeline, parameters, cv=3, scoring='f1_weighted', n_jobs=-1, verbose=2)\n",
    "\n",
    "print(\"Memulai Hyperparameter Tuning dengan GridSearchCV...\")\n",
    "print(\"Parameter yang akan diuji:\")\n",
    "print(parameters)\n",
    "grid_search.fit(X_train_text, y_train)\n",
    "\n",
    "print(\"\\n--- Tuning Selesai ---\")\n",
    "print(f\"Skor F1 terbaik dari hasil cross-validation: {grid_search.best_score_:.4f}\")\n",
    "print(\"Parameter terbaik yang ditemukan:\")\n",
    "print(grid_search.best_params_)\n",
    "\n",
    "best_model = grid_search.best_estimator_\n",
    "print(\"-\" * 50)"
   ]
  },
  {
   "cell_type": "code",
   "execution_count": 11,
   "id": "a8aa1b4b-91ae-43ca-8ed0-17145f8e50f0",
   "metadata": {},
   "outputs": [
    {
     "name": "stdout",
     "output_type": "stream",
     "text": [
      "   -> Prediksi selesai dibuat.\n",
      "\n",
      "2. Menghitung dan menampilkan hasil evaluasi akhir...\n",
      "   -> F1-Score (Weighted) pada Test Set: 0.9138\n",
      "   -> Akurasi pada Test Set: 0.9138\n",
      "\n",
      "--- Laporan Klasifikasi Lengkap untuk Model Terbaik ---\n",
      "              precision    recall  f1-score   support\n",
      "\n",
      "          CG       0.92      0.91      0.91      4044\n",
      "          OR       0.91      0.92      0.91      4043\n",
      "\n",
      "    accuracy                           0.91      8087\n",
      "   macro avg       0.91      0.91      0.91      8087\n",
      "weighted avg       0.91      0.91      0.91      8087\n",
      "\n",
      "\n",
      "visualisasi Confusion Matrix untuk Model Terbaik...\n"
     ]
    },
    {
     "data": {
      "image/png": "[encoded data removed]",
      "text/plain": [
       "<Figure size 800x600 with 2 Axes>"
      ]
     },
     "metadata": {},
     "output_type": "display_data"
    },
    {
     "name": "stdout",
     "output_type": "stream",
     "text": [
      "   -> Selesai.\n"
     ]
    }
   ],
   "source": [
    "from sklearn.metrics import classification_report, f1_score, accuracy_score, confusion_matrix\n",
    "import seaborn as sns\n",
    "import matplotlib.pyplot as plt\n",
    "\n",
    "y_pred = best_model.predict(X_test_text)\n",
    "print(\"   -> Prediksi selesai dibuat.\")\n",
    "\n",
    "print(\"\\n2. Menghitung dan menampilkan hasil evaluasi akhir...\")\n",
    "f1 = f1_score(y_test, y_pred, average='weighted')\n",
    "print(f\"   -> F1-Score (Weighted) pada Test Set: {f1:.4f}\")\n",
    "\n",
    "accuracy = accuracy_score(y_test, y_pred)\n",
    "print(f\"   -> Akurasi pada Test Set: {accuracy:.4f}\")\n",
    "\n",
    "print(\"\\n--- Laporan Klasifikasi Lengkap untuk Model Terbaik ---\")\n",
    "print(classification_report(y_test, y_pred))\n",
    "\n",
    "print(\"\\nvisualisasi Confusion Matrix untuk Model Terbaik...\")\n",
    "cm = confusion_matrix(y_test, y_pred)\n",
    "plt.figure(figsize=(8, 6))\n",
    "sns.heatmap(cm, annot=True, fmt='d', cmap='Blues', \n",
    "            xticklabels=best_model.classes_, \n",
    "            yticklabels=best_model.classes_)\n",
    "plt.xlabel('Label Prediksi')\n",
    "plt.ylabel('Label Sebenarnya')\n",
    "plt.title('Confusion Matrix untuk Model SVM (Hasil Tuning)')\n",
    "plt.show()\n",
    "print(\"   -> Selesai.\")"
   ]
  },
  {
   "cell_type": "code",
   "execution_count": 13,
   "id": "26bc8b98-f882-48b2-9ae1-a80abf76b80c",
   "metadata": {},
   "outputs": [
    {
     "name": "stdout",
     "output_type": "stream",
     "text": [
      "Requirement already satisfied: lime in c:\\users\\asus\\anaconda3\\lib\\site-packages (0.2.0.1)\n",
      "Requirement already satisfied: matplotlib in c:\\users\\asus\\anaconda3\\lib\\site-packages (from lime) (3.9.2)\n",
      "Requirement already satisfied: numpy in c:\\users\\asus\\anaconda3\\lib\\site-packages (from lime) (1.26.4)\n",
      "Requirement already satisfied: scipy in c:\\users\\asus\\anaconda3\\lib\\site-packages (from lime) (1.13.1)\n",
      "Requirement already satisfied: tqdm in c:\\users\\asus\\anaconda3\\lib\\site-packages (from lime) (4.66.5)\n",
      "Requirement already satisfied: scikit-learn>=0.18 in c:\\users\\asus\\anaconda3\\lib\\site-packages (from lime) (1.5.1)\n",
      "Requirement already satisfied: scikit-image>=0.12 in c:\\users\\asus\\anaconda3\\lib\\site-packages (from lime) (0.24.0)\n",
      "Requirement already satisfied: networkx>=2.8 in c:\\users\\asus\\anaconda3\\lib\\site-packages (from scikit-image>=0.12->lime) (3.3)\n",
      "Requirement already satisfied: pillow>=9.1 in c:\\users\\asus\\anaconda3\\lib\\site-packages (from scikit-image>=0.12->lime) (10.4.0)\n",
      "Requirement already satisfied: imageio>=2.33 in c:\\users\\asus\\anaconda3\\lib\\site-packages (from scikit-image>=0.12->lime) (2.33.1)\n",
      "Requirement already satisfied: tifffile>=2022.8.12 in c:\\users\\asus\\anaconda3\\lib\\site-packages (from scikit-image>=0.12->lime) (2023.4.12)\n",
      "Requirement already satisfied: packaging>=21 in c:\\users\\asus\\anaconda3\\lib\\site-packages (from scikit-image>=0.12->lime) (24.1)\n",
      "Requirement already satisfied: lazy-loader>=0.4 in c:\\users\\asus\\anaconda3\\lib\\site-packages (from scikit-image>=0.12->lime) (0.4)\n",
      "Requirement already satisfied: joblib>=1.2.0 in c:\\users\\asus\\anaconda3\\lib\\site-packages (from scikit-learn>=0.18->lime) (1.4.2)\n",
      "Requirement already satisfied: threadpoolctl>=3.1.0 in c:\\users\\asus\\anaconda3\\lib\\site-packages (from scikit-learn>=0.18->lime) (3.5.0)\n",
      "Requirement already satisfied: contourpy>=1.0.1 in c:\\users\\asus\\anaconda3\\lib\\site-packages (from matplotlib->lime) (1.2.0)\n",
      "Requirement already satisfied: cycler>=0.10 in c:\\users\\asus\\anaconda3\\lib\\site-packages (from matplotlib->lime) (0.11.0)\n",
      "Requirement already satisfied: fonttools>=4.22.0 in c:\\users\\asus\\anaconda3\\lib\\site-packages (from matplotlib->lime) (4.51.0)\n",
      "Requirement already satisfied: kiwisolver>=1.3.1 in c:\\users\\asus\\anaconda3\\lib\\site-packages (from matplotlib->lime) (1.4.4)\n",
      "Requirement already satisfied: pyparsing>=2.3.1 in c:\\users\\asus\\anaconda3\\lib\\site-packages (from matplotlib->lime) (3.1.2)\n",
      "Requirement already satisfied: python-dateutil>=2.7 in c:\\users\\asus\\anaconda3\\lib\\site-packages (from matplotlib->lime) (2.9.0.post0)\n",
      "Requirement already satisfied: colorama in c:\\users\\asus\\anaconda3\\lib\\site-packages (from tqdm->lime) (0.4.6)\n",
      "Requirement already satisfied: six>=1.5 in c:\\users\\asus\\anaconda3\\lib\\site-packages (from python-dateutil>=2.7->matplotlib->lime) (1.16.0)\n"
     ]
    }
   ],
   "source": [
    "!pip install lime\n"
   ]
  },
  {
   "cell_type": "code",
   "execution_count": 15,
   "id": "2e6e2882-3651-42e3-a8e1-c4c4a6ca2276",
   "metadata": {},
   "outputs": [
    {
     "name": "stdout",
     "output_type": "stream",
     "text": [
      "LIME Explainer siap digunakan.\n"
     ]
    }
   ],
   "source": [
    "import lime\n",
    "import lime.lime_text\n",
    "from sklearn.pipeline import make_pipeline\n",
    "\n",
    "class_names = best_model.classes_\n",
    "explainer = lime.lime_text.LimeTextExplainer(class_names=class_names)\n",
    "\n",
    "print(\"LIME Explainer siap digunakan.\")"
   ]
  },
  {
   "cell_type": "code",
   "execution_count": 17,
   "id": "e4042733-1ea4-4813-8708-fea242665099",
   "metadata": {},
   "outputs": [
    {
     "name": "stdout",
     "output_type": "stream",
     "text": [
      "--- Menjelaskan Ulasan #56 ---\n",
      "Teks Ulasan: \"love two handl nice strong not too big or too small perfect pair glass great product plastic handl great color beauti highli recommendi love iti bought replac broken one bought year ago veri disappoint not cheap but not veri good look pretti but not veri good veri thin veri hard fill given 5 star if\"\n",
      "Label Sebenarnya: CG\n",
      "Prediksi Model: CG\n",
      "--------------------\n"
     ]
    },
    {
     "ename": "AttributeError",
     "evalue": "This 'Pipeline' has no attribute 'predict_proba'",
     "output_type": "error",
     "traceback": [
      "\u001b[1;31m---------------------------------------------------------------------------\u001b[0m",
      "\u001b[1;31mAttributeError\u001b[0m                            Traceback (most recent call last)",
      "File \u001b[1;32m~\\anaconda3\\Lib\\site-packages\\sklearn\\utils\\_available_if.py:29\u001b[0m, in \u001b[0;36m_AvailableIfDescriptor._check\u001b[1;34m(self, obj, owner)\u001b[0m\n\u001b[0;32m     28\u001b[0m \u001b[38;5;28;01mtry\u001b[39;00m:\n\u001b[1;32m---> 29\u001b[0m     check_result \u001b[38;5;241m=\u001b[39m \u001b[38;5;28mself\u001b[39m\u001b[38;5;241m.\u001b[39mcheck(obj)\n\u001b[0;32m     30\u001b[0m \u001b[38;5;28;01mexcept\u001b[39;00m \u001b[38;5;167;01mException\u001b[39;00m \u001b[38;5;28;01mas\u001b[39;00m e:\n",
      "File \u001b[1;32m~\\anaconda3\\Lib\\site-packages\\sklearn\\svm\\_base.py:822\u001b[0m, in \u001b[0;36mBaseSVC._check_proba\u001b[1;34m(self)\u001b[0m\n\u001b[0;32m    821\u001b[0m \u001b[38;5;28;01mif\u001b[39;00m \u001b[38;5;129;01mnot\u001b[39;00m \u001b[38;5;28mself\u001b[39m\u001b[38;5;241m.\u001b[39mprobability:\n\u001b[1;32m--> 822\u001b[0m     \u001b[38;5;28;01mraise\u001b[39;00m \u001b[38;5;167;01mAttributeError\u001b[39;00m(\n\u001b[0;32m    823\u001b[0m         \u001b[38;5;124m\"\u001b[39m\u001b[38;5;124mpredict_proba is not available when probability=False\u001b[39m\u001b[38;5;124m\"\u001b[39m\n\u001b[0;32m    824\u001b[0m     )\n\u001b[0;32m    825\u001b[0m \u001b[38;5;28;01mif\u001b[39;00m \u001b[38;5;28mself\u001b[39m\u001b[38;5;241m.\u001b[39m_impl \u001b[38;5;129;01mnot\u001b[39;00m \u001b[38;5;129;01min\u001b[39;00m (\u001b[38;5;124m\"\u001b[39m\u001b[38;5;124mc_svc\u001b[39m\u001b[38;5;124m\"\u001b[39m, \u001b[38;5;124m\"\u001b[39m\u001b[38;5;124mnu_svc\u001b[39m\u001b[38;5;124m\"\u001b[39m):\n",
      "\u001b[1;31mAttributeError\u001b[0m: predict_proba is not available when probability=False",
      "\nThe above exception was the direct cause of the following exception:\n",
      "\u001b[1;31mAttributeError\u001b[0m                            Traceback (most recent call last)",
      "File \u001b[1;32m~\\anaconda3\\Lib\\site-packages\\sklearn\\utils\\_available_if.py:29\u001b[0m, in \u001b[0;36m_AvailableIfDescriptor._check\u001b[1;34m(self, obj, owner)\u001b[0m\n\u001b[0;32m     28\u001b[0m \u001b[38;5;28;01mtry\u001b[39;00m:\n\u001b[1;32m---> 29\u001b[0m     check_result \u001b[38;5;241m=\u001b[39m \u001b[38;5;28mself\u001b[39m\u001b[38;5;241m.\u001b[39mcheck(obj)\n\u001b[0;32m     30\u001b[0m \u001b[38;5;28;01mexcept\u001b[39;00m \u001b[38;5;167;01mException\u001b[39;00m \u001b[38;5;28;01mas\u001b[39;00m e:\n",
      "File \u001b[1;32m~\\anaconda3\\Lib\\site-packages\\sklearn\\pipeline.py:51\u001b[0m, in \u001b[0;36m_final_estimator_has.<locals>.check\u001b[1;34m(self)\u001b[0m\n\u001b[0;32m     49\u001b[0m \u001b[38;5;28;01mdef\u001b[39;00m \u001b[38;5;21mcheck\u001b[39m(\u001b[38;5;28mself\u001b[39m):\n\u001b[0;32m     50\u001b[0m     \u001b[38;5;66;03m# raise original `AttributeError` if `attr` does not exist\u001b[39;00m\n\u001b[1;32m---> 51\u001b[0m     \u001b[38;5;28mgetattr\u001b[39m(\u001b[38;5;28mself\u001b[39m\u001b[38;5;241m.\u001b[39m_final_estimator, attr)\n\u001b[0;32m     52\u001b[0m     \u001b[38;5;28;01mreturn\u001b[39;00m \u001b[38;5;28;01mTrue\u001b[39;00m\n",
      "File \u001b[1;32m~\\anaconda3\\Lib\\site-packages\\sklearn\\utils\\_available_if.py:40\u001b[0m, in \u001b[0;36m_AvailableIfDescriptor.__get__\u001b[1;34m(self, obj, owner)\u001b[0m\n\u001b[0;32m     37\u001b[0m \u001b[38;5;28;01mif\u001b[39;00m obj \u001b[38;5;129;01mis\u001b[39;00m \u001b[38;5;129;01mnot\u001b[39;00m \u001b[38;5;28;01mNone\u001b[39;00m:\n\u001b[0;32m     38\u001b[0m     \u001b[38;5;66;03m# delegate only on instances, not the classes.\u001b[39;00m\n\u001b[0;32m     39\u001b[0m     \u001b[38;5;66;03m# this is to allow access to the docstrings.\u001b[39;00m\n\u001b[1;32m---> 40\u001b[0m     \u001b[38;5;28mself\u001b[39m\u001b[38;5;241m.\u001b[39m_check(obj, owner\u001b[38;5;241m=\u001b[39mowner)\n\u001b[0;32m     41\u001b[0m     out \u001b[38;5;241m=\u001b[39m MethodType(\u001b[38;5;28mself\u001b[39m\u001b[38;5;241m.\u001b[39mfn, obj)\n",
      "File \u001b[1;32m~\\anaconda3\\Lib\\site-packages\\sklearn\\utils\\_available_if.py:31\u001b[0m, in \u001b[0;36m_AvailableIfDescriptor._check\u001b[1;34m(self, obj, owner)\u001b[0m\n\u001b[0;32m     30\u001b[0m \u001b[38;5;28;01mexcept\u001b[39;00m \u001b[38;5;167;01mException\u001b[39;00m \u001b[38;5;28;01mas\u001b[39;00m e:\n\u001b[1;32m---> 31\u001b[0m     \u001b[38;5;28;01mraise\u001b[39;00m \u001b[38;5;167;01mAttributeError\u001b[39;00m(attr_err_msg) \u001b[38;5;28;01mfrom\u001b[39;00m \u001b[38;5;21;01me\u001b[39;00m\n\u001b[0;32m     33\u001b[0m \u001b[38;5;28;01mif\u001b[39;00m \u001b[38;5;129;01mnot\u001b[39;00m check_result:\n",
      "\u001b[1;31mAttributeError\u001b[0m: This 'SVC' has no attribute 'predict_proba'",
      "\nThe above exception was the direct cause of the following exception:\n",
      "\u001b[1;31mAttributeError\u001b[0m                            Traceback (most recent call last)",
      "Cell \u001b[1;32mIn[17], line 16\u001b[0m\n\u001b[0;32m     10\u001b[0m \u001b[38;5;28mprint\u001b[39m(\u001b[38;5;124mf\u001b[39m\u001b[38;5;124m\"\u001b[39m\u001b[38;5;124mPrediksi Model: \u001b[39m\u001b[38;5;132;01m{\u001b[39;00mbest_model\u001b[38;5;241m.\u001b[39mpredict([text_cg])[\u001b[38;5;241m0\u001b[39m]\u001b[38;5;132;01m}\u001b[39;00m\u001b[38;5;124m\"\u001b[39m)\n\u001b[0;32m     11\u001b[0m \u001b[38;5;28mprint\u001b[39m(\u001b[38;5;124m\"\u001b[39m\u001b[38;5;124m-\u001b[39m\u001b[38;5;124m\"\u001b[39m \u001b[38;5;241m*\u001b[39m \u001b[38;5;241m20\u001b[39m)\n\u001b[0;32m     14\u001b[0m explanation_cg \u001b[38;5;241m=\u001b[39m explainer\u001b[38;5;241m.\u001b[39mexplain_instance(\n\u001b[0;32m     15\u001b[0m     text_cg, \n\u001b[1;32m---> 16\u001b[0m     best_model\u001b[38;5;241m.\u001b[39mpredict_proba, \n\u001b[0;32m     17\u001b[0m     num_features\u001b[38;5;241m=\u001b[39m\u001b[38;5;241m10\u001b[39m  \n\u001b[0;32m     18\u001b[0m )\n\u001b[0;32m     20\u001b[0m explanation_cg\u001b[38;5;241m.\u001b[39mshow_in_notebook(text\u001b[38;5;241m=\u001b[39m\u001b[38;5;28;01mTrue\u001b[39;00m)\n\u001b[0;32m     22\u001b[0m \u001b[38;5;28mprint\u001b[39m(\u001b[38;5;124mf\u001b[39m\u001b[38;5;124m\"\u001b[39m\u001b[38;5;130;01m\\n\u001b[39;00m\u001b[38;5;130;01m\\n\u001b[39;00m\u001b[38;5;124m--- Menjelaskan Ulasan #\u001b[39m\u001b[38;5;132;01m{\u001b[39;00midx_or\u001b[38;5;132;01m}\u001b[39;00m\u001b[38;5;124m ---\u001b[39m\u001b[38;5;124m\"\u001b[39m)\n",
      "File \u001b[1;32m~\\anaconda3\\Lib\\site-packages\\sklearn\\utils\\_available_if.py:40\u001b[0m, in \u001b[0;36m_AvailableIfDescriptor.__get__\u001b[1;34m(self, obj, owner)\u001b[0m\n\u001b[0;32m     36\u001b[0m \u001b[38;5;28;01mdef\u001b[39;00m \u001b[38;5;21m__get__\u001b[39m(\u001b[38;5;28mself\u001b[39m, obj, owner\u001b[38;5;241m=\u001b[39m\u001b[38;5;28;01mNone\u001b[39;00m):\n\u001b[0;32m     37\u001b[0m     \u001b[38;5;28;01mif\u001b[39;00m obj \u001b[38;5;129;01mis\u001b[39;00m \u001b[38;5;129;01mnot\u001b[39;00m \u001b[38;5;28;01mNone\u001b[39;00m:\n\u001b[0;32m     38\u001b[0m         \u001b[38;5;66;03m# delegate only on instances, not the classes.\u001b[39;00m\n\u001b[0;32m     39\u001b[0m         \u001b[38;5;66;03m# this is to allow access to the docstrings.\u001b[39;00m\n\u001b[1;32m---> 40\u001b[0m         \u001b[38;5;28mself\u001b[39m\u001b[38;5;241m.\u001b[39m_check(obj, owner\u001b[38;5;241m=\u001b[39mowner)\n\u001b[0;32m     41\u001b[0m         out \u001b[38;5;241m=\u001b[39m MethodType(\u001b[38;5;28mself\u001b[39m\u001b[38;5;241m.\u001b[39mfn, obj)\n\u001b[0;32m     43\u001b[0m     \u001b[38;5;28;01melse\u001b[39;00m:\n\u001b[0;32m     44\u001b[0m         \u001b[38;5;66;03m# This makes it possible to use the decorated method as an unbound method,\u001b[39;00m\n\u001b[0;32m     45\u001b[0m         \u001b[38;5;66;03m# for instance when monkeypatching.\u001b[39;00m\n",
      "File \u001b[1;32m~\\anaconda3\\Lib\\site-packages\\sklearn\\utils\\_available_if.py:31\u001b[0m, in \u001b[0;36m_AvailableIfDescriptor._check\u001b[1;34m(self, obj, owner)\u001b[0m\n\u001b[0;32m     29\u001b[0m     check_result \u001b[38;5;241m=\u001b[39m \u001b[38;5;28mself\u001b[39m\u001b[38;5;241m.\u001b[39mcheck(obj)\n\u001b[0;32m     30\u001b[0m \u001b[38;5;28;01mexcept\u001b[39;00m \u001b[38;5;167;01mException\u001b[39;00m \u001b[38;5;28;01mas\u001b[39;00m e:\n\u001b[1;32m---> 31\u001b[0m     \u001b[38;5;28;01mraise\u001b[39;00m \u001b[38;5;167;01mAttributeError\u001b[39;00m(attr_err_msg) \u001b[38;5;28;01mfrom\u001b[39;00m \u001b[38;5;21;01me\u001b[39;00m\n\u001b[0;32m     33\u001b[0m \u001b[38;5;28;01mif\u001b[39;00m \u001b[38;5;129;01mnot\u001b[39;00m check_result:\n\u001b[0;32m     34\u001b[0m     \u001b[38;5;28;01mraise\u001b[39;00m \u001b[38;5;167;01mAttributeError\u001b[39;00m(attr_err_msg)\n",
      "\u001b[1;31mAttributeError\u001b[0m: This 'Pipeline' has no attribute 'predict_proba'"
     ]
    }
   ],
   "source": [
    "idx_cg = 56\n",
    "idx_or = 69  \n",
    "\n",
    "text_cg = X_test_text.iloc[idx_cg]\n",
    "text_or = X_test_text.iloc[idx_or]\n",
    "\n",
    "print(f\"--- Menjelaskan Ulasan #{idx_cg} ---\")\n",
    "print(f\"Teks Ulasan: \\\"{text_cg}\\\"\")\n",
    "print(f\"Label Sebenarnya: {y_test.iloc[idx_cg]}\")\n",
    "print(f\"Prediksi Model: {best_model.predict([text_cg])[0]}\")\n",
    "print(\"-\" * 20)\n",
    "\n",
    "\n",
    "explanation_cg = explainer.explain_instance(\n",
    "    text_cg, \n",
    "    best_model.predict_proba, \n",
    "    num_features=10  \n",
    ")\n",
    "\n",
    "explanation_cg.show_in_notebook(text=True)\n",
    "\n",
    "print(f\"\\n\\n--- Menjelaskan Ulasan #{idx_or} ---\")\n",
    "print(f\"Teks Ulasan: \\\"{text_or}\\\"\")\n",
    "print(f\"Label Sebenarnya: {y_test.iloc[idx_or]}\")\n",
    "print(f\"Prediksi Model: {best_model.predict([text_or])[0]}\")\n",
    "print(\"-\" * 20)\n",
    "\n",
    "explanation_or = explainer.explain_instance(\n",
    "    text_or, \n",
    "    best_model.predict_proba, \n",
    "    num_features=10\n",
    ")\n",
    "\n",
    "explanation_or.show_in_notebook(text=True)"
   ]
  },
  {
   "cell_type": "code",
   "execution_count": null,
   "id": "348f4faf-bc4d-491a-a62a-2e915705a891",
   "metadata": {},
   "outputs": [],
   "source": []
  }
 ],
 "metadata": {
  "kernelspec": {
   "display_name": "Python [conda env:base] *",
   "language": "python",
   "name": "conda-base-py"
  },
  "language_info": {
   "codemirror_mode": {
    "name": "ipython",
    "version": 3
   },
   "file_extension": ".py",
   "mimetype": "text/x-python",
   "name": "python",
   "nbconvert_exporter": "python",
   "pygments_lexer": "ipython3",
   "version": "3.12.7"
  }
 },
 "nbformat": 4,
 "nbformat_minor": 5
}
