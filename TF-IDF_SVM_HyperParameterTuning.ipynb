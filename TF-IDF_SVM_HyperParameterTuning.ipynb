{
 "cells": [
  {
   "cell_type": "code",
   "execution_count": 3,
   "id": "45597c50-bbb9-4d85-8b78-0c5d9edd5b1b",
   "metadata": {},
   "outputs": [],
   "source": [
    "import pandas as pd\n",
    "import numpy as np"
   ]
  },
  {
   "cell_type": "code",
   "execution_count": 5,
   "id": "208117d8-a621-452f-8d12-70c11bef4b4e",
   "metadata": {},
   "outputs": [],
   "source": [
    "file_path = r\"C:\\Users\\ASUS\\Documents\\Dataset ML\\fr_dataset_stemmed.xlsx\"\n",
    "df = pd.read_excel(file_path)\n"
   ]
  },
  {
   "cell_type": "code",
   "execution_count": 6,
   "id": "ccd18339-2c29-4af6-b8da-a166bb78ea25",
   "metadata": {},
   "outputs": [
    {
     "name": "stdout",
     "output_type": "stream",
     "text": [
      "Data Awal:\n",
      "             category  rating label  \\\n",
      "0  Home_and_Kitchen_5       5    CG   \n",
      "1  Home_and_Kitchen_5       5    CG   \n",
      "2  Home_and_Kitchen_5       5    CG   \n",
      "3  Home_and_Kitchen_5       1    CG   \n",
      "4  Home_and_Kitchen_5       5    CG   \n",
      "\n",
      "                                                text  \\\n",
      "0  Love this!  Well made, sturdy, and very comfor...   \n",
      "1  love it, a great upgrade from the original.  I...   \n",
      "2  This pillow saved my back. I love the look and...   \n",
      "3  Missing information on how to use it, but it i...   \n",
      "4  Very nice set. Good quality. We have had the s...   \n",
      "\n",
      "                                          clean_text  \\\n",
      "0  Love this  Well made sturdy and very comfortab...   \n",
      "1  love it a great upgrade from the original  Ive...   \n",
      "2  This pillow saved my back I love the look and ...   \n",
      "3  Missing information on how to use it but it is...   \n",
      "4  Very nice set Good quality We have had the set...   \n",
      "\n",
      "                                    clean_text_lower  \\\n",
      "0  love this  well made sturdy and very comfortab...   \n",
      "1  love it a great upgrade from the original  ive...   \n",
      "2  this pillow saved my back i love the look and ...   \n",
      "3  missing information on how to use it but it is...   \n",
      "4  very nice set good quality we have had the set...   \n",
      "\n",
      "                                              tokens  \\\n",
      "0  ['love', 'this', 'well', 'made', 'sturdy', 'an...   \n",
      "1  ['love', 'it', 'a', 'great', 'upgrade', 'from'...   \n",
      "2  ['this', 'pillow', 'saved', 'my', 'back', 'i',...   \n",
      "3  ['missing', 'information', 'on', 'how', 'to', ...   \n",
      "4  ['very', 'nice', 'set', 'good', 'quality', 'we...   \n",
      "\n",
      "                                    stopword_removal  \\\n",
      "0  ['love', 'well', 'made', 'sturdy', 'very', 'co...   \n",
      "1  ['love', 'great', 'upgrade', 'original', 'ive'...   \n",
      "2  ['pillow', 'saved', 'back', 'love', 'look', 'f...   \n",
      "3  ['missing', 'information', 'use', 'but', 'grea...   \n",
      "4  ['very', 'nice', 'set', 'good', 'quality', 'se...   \n",
      "\n",
      "                                            stemming  \n",
      "0  love well made sturdi veri comfort love itveri...  \n",
      "1            love great upgrad origin ive coupl year  \n",
      "2             pillow save back love look feel pillow  \n",
      "3            miss inform use but great product price  \n",
      "4   veri nice set good qualiti set two month now not  \n",
      "\n",
      "==================================================\n",
      "\n"
     ]
    }
   ],
   "source": [
    "print(\"Data Awal:\")\n",
    "print(df.head())\n",
    "print(\"\\n\" + \"=\"*50 + \"\\n\")"
   ]
  },
  {
   "cell_type": "code",
   "execution_count": 9,
   "id": "1221792d-1060-46cb-a377-9caaef95d23b",
   "metadata": {},
   "outputs": [
    {
     "name": "stdout",
     "output_type": "stream",
     "text": [
      "Mempersiapkan dan memisahkan data...\n",
      "Jumlah data latih: 32345\n",
      "Jumlah data uji:  8087\n",
      "--------------------------------------------------\n"
     ]
    }
   ],
   "source": [
    "from sklearn.feature_extraction.text import TfidfVectorizer \n",
    "from sklearn.model_selection import train_test_split\n",
    "print(\"Mempersiapkan dan memisahkan data...\")\n",
    "\n",
    "X_text = df['stemming'].astype(str)\n",
    "y = df['label']\n",
    "\n",
    "X_train_text, X_test_text, y_train, y_test = train_test_split(\n",
    "    X_text,\n",
    "    y,\n",
    "    test_size=0.2, \n",
    "    random_state=42, \n",
    "    stratify=y\n",
    ")\n",
    "\n",
    "print(f\"Jumlah data latih: {len(X_train_text)}\")\n",
    "print(f\"Jumlah data uji:  {len(X_test_text)}\")\n",
    "print(\"-\" * 50)\n"
   ]
  },
  {
   "cell_type": "code",
   "execution_count": 17,
   "id": "9ff1d1f7-f65e-42d0-9be3-85f29de7503e",
   "metadata": {},
   "outputs": [
    {
     "name": "stdout",
     "output_type": "stream",
     "text": [
      "Memulai Hyperparameter Tuning dengan GridSearchCV...\n",
      "Parameter yang akan diuji:\n",
      "{'tfidf__ngram_range': [(1, 1)], 'svm__C': [1, 10], 'svm__kernel': ['linear']}\n",
      "Fitting 3 folds for each of 2 candidates, totalling 6 fits\n",
      "\n",
      "--- Tuning Selesai ---\n",
      "Skor F1 terbaik dari hasil cross-validation: 0.8776\n",
      "Parameter terbaik yang ditemukan:\n",
      "{'svm__C': 1, 'svm__kernel': 'linear', 'tfidf__ngram_range': (1, 1)}\n",
      "--------------------------------------------------\n"
     ]
    }
   ],
   "source": [
    "from sklearn.svm import SVC\n",
    "from sklearn.pipeline import Pipeline\n",
    "from sklearn.model_selection import GridSearchCV\n",
    "\n",
    "pipeline = Pipeline([\n",
    "    ('tfidf', TfidfVectorizer()),\n",
    "    ('svm', SVC(random_state=42)),\n",
    "])\n",
    "\n",
    "parameters = {\n",
    "    'tfidf__ngram_range': [(1, 1)], \n",
    "    'svm__C': [1, 10],                   \n",
    "    'svm__kernel': ['linear'],             \n",
    "}\n",
    "\n",
    "grid_search = GridSearchCV(pipeline, parameters, cv=3, scoring='f1_weighted', n_jobs=-1, verbose=2)\n",
    "\n",
    "print(\"Memulai Hyperparameter Tuning dengan GridSearchCV...\")\n",
    "print(\"Parameter yang akan diuji:\")\n",
    "print(parameters)\n",
    "grid_search.fit(X_train_text, y_train)\n",
    "\n",
    "print(\"\\n--- Tuning Selesai ---\")\n",
    "print(f\"Skor F1 terbaik dari hasil cross-validation: {grid_search.best_score_:.4f}\")\n",
    "print(\"Parameter terbaik yang ditemukan:\")\n",
    "print(grid_search.best_params_)\n",
    "\n",
    "best_model = grid_search.best_estimator_\n",
    "print(\"-\" * 50)"
   ]
  },
  {
   "cell_type": "code",
   "execution_count": 19,
   "id": "a8aa1b4b-91ae-43ca-8ed0-17145f8e50f0",
   "metadata": {},
   "outputs": [
    {
     "name": "stdout",
     "output_type": "stream",
     "text": [
      "   -> Prediksi selesai dibuat.\n",
      "\n",
      "2. Menghitung dan menampilkan hasil evaluasi akhir...\n",
      "   -> F1-Score (Weighted) pada Test Set: 0.8776\n",
      "   -> Akurasi pada Test Set: 0.8776\n",
      "\n",
      "--- Laporan Klasifikasi Lengkap untuk Model Terbaik ---\n",
      "              precision    recall  f1-score   support\n",
      "\n",
      "          CG       0.88      0.88      0.88      4044\n",
      "          OR       0.88      0.88      0.88      4043\n",
      "\n",
      "    accuracy                           0.88      8087\n",
      "   macro avg       0.88      0.88      0.88      8087\n",
      "weighted avg       0.88      0.88      0.88      8087\n",
      "\n",
      "\n",
      "visualisasi Confusion Matrix untuk Model Terbaik...\n"
     ]
    },
    {
     "data": {
      "image/png": "[encoded data removed]",
      "text/plain": [
       "<Figure size 800x600 with 2 Axes>"
      ]
     },
     "metadata": {},
     "output_type": "display_data"
    },
    {
     "name": "stdout",
     "output_type": "stream",
     "text": [
      "   -> Selesai.\n"
     ]
    }
   ],
   "source": [
    "from sklearn.metrics import classification_report, f1_score, accuracy_score, confusion_matrix\n",
    "import seaborn as sns\n",
    "import matplotlib.pyplot as plt\n",
    "\n",
    "y_pred = best_model.predict(X_test_text)\n",
    "print(\"   -> Prediksi selesai dibuat.\")\n",
    "\n",
    "print(\"\\n2. Menghitung dan menampilkan hasil evaluasi akhir...\")\n",
    "f1 = f1_score(y_test, y_pred, average='weighted')\n",
    "print(f\"   -> F1-Score (Weighted) pada Test Set: {f1:.4f}\")\n",
    "\n",
    "accuracy = accuracy_score(y_test, y_pred)\n",
    "print(f\"   -> Akurasi pada Test Set: {accuracy:.4f}\")\n",
    "\n",
    "print(\"\\n--- Laporan Klasifikasi Lengkap untuk Model Terbaik ---\")\n",
    "print(classification_report(y_test, y_pred))\n",
    "\n",
    "print(\"\\nvisualisasi Confusion Matrix untuk Model Terbaik...\")\n",
    "cm = confusion_matrix(y_test, y_pred)\n",
    "plt.figure(figsize=(8, 6))\n",
    "sns.heatmap(cm, annot=True, fmt='d', cmap='Blues', \n",
    "            xticklabels=best_model.classes_, \n",
    "            yticklabels=best_model.classes_)\n",
    "plt.xlabel('Label Prediksi')\n",
    "plt.ylabel('Label Sebenarnya')\n",
    "plt.title('Confusion Matrix untuk Model SVM (Hasil Tuning)')\n",
    "plt.show()\n",
    "print(\"   -> Selesai.\")"
   ]
  },
  {
   "cell_type": "code",
   "execution_count": null,
   "id": "26bc8b98-f882-48b2-9ae1-a80abf76b80c",
   "metadata": {},
   "outputs": [],
   "source": []
  }
 ],
 "metadata": {
  "kernelspec": {
   "display_name": "Python [conda env:base] *",
   "language": "python",
   "name": "conda-base-py"
  },
  "language_info": {
   "codemirror_mode": {
    "name": "ipython",
    "version": 3
   },
   "file_extension": ".py",
   "mimetype": "text/x-python",
   "name": "python",
   "nbconvert_exporter": "python",
   "pygments_lexer": "ipython3",
   "version": "3.12.7"
  }
 },
 "nbformat": 4,
 "nbformat_minor": 5
}
